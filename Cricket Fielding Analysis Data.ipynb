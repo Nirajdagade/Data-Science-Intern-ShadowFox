{
 "cells": [
  {
   "cell_type": "code",
   "execution_count": 17,
   "id": "a3f85c6d-88bf-40d6-bd34-e39ae152737e",
   "metadata": {},
   "outputs": [
    {
     "ename": "SyntaxError",
     "evalue": "invalid syntax (2295504162.py, line 2)",
     "output_type": "error",
     "traceback": [
      "\u001b[1;36m  Cell \u001b[1;32mIn[17], line 2\u001b[1;36m\u001b[0m\n\u001b[1;33m    pip install pandas openpyxl\u001b[0m\n\u001b[1;37m        ^\u001b[0m\n\u001b[1;31mSyntaxError\u001b[0m\u001b[1;31m:\u001b[0m invalid syntax\n"
     ]
    }
   ],
   "source": [
    "import pandas as pd\n",
    "\n",
    "# Load the Excel file (adjust path if needed)\n",
    "file_path = \"IPL sample data.xlsx\"\n",
    "df_raw = pd.read_excel(file_path, sheet_name='Sheet1', skiprows=3)"
   ]
  },
  {
   "cell_type": "code",
   "execution_count": 18,
   "id": "0d75f8b7-2300-4c1b-a7f2-2b04453a8a5f",
   "metadata": {},
   "outputs": [],
   "source": [
    "# Drop empty rows/columns and assign correct headers\n",
    "df_raw.dropna(how='all', inplace=True)\n",
    "df_raw.dropna(axis=1, how='all', inplace=True)\n",
    "df_raw.columns = df_raw.iloc[0]\n",
    "df = df_raw[1:].copy()\n",
    "df.columns.name = None"
   ]
  },
  {
   "cell_type": "code",
   "execution_count": 19,
   "id": "93e06e96-e515-4705-8781-6f3e810dfca5",
   "metadata": {},
   "outputs": [],
   "source": [
    "# Rename key columns for easier handling\n",
    "df.rename(columns={\n",
    "    'Match No.': 'Match No',\n",
    "    'Player Name': 'Player Name',\n",
    "    'BallCount': 'BallCount',\n",
    "    'Position': 'Position',\n",
    "    'Pick': 'Pick',\n",
    "    'Throw': 'Throw',\n",
    "    'Runs': 'Runs',\n",
    "    'Overcount': 'Overcount',\n",
    "    'Venue': 'Venue',\n",
    "    'Stadium': 'Stadium'\n",
    "}, inplace=True)\n"
   ]
  },
  {
   "cell_type": "code",
   "execution_count": 20,
   "id": "850f7ac7-0f9a-4553-8330-99881507d412",
   "metadata": {},
   "outputs": [],
   "source": [
    "# Optional: Strip all whitespace from column names\n",
    "df.columns = df.columns.str.strip()"
   ]
  },
  {
   "cell_type": "code",
   "execution_count": 21,
   "id": "03b28e2a-745b-41d2-bc45-1a5d48fcaa32",
   "metadata": {},
   "outputs": [],
   "source": [
    "# Replace missing values\n",
    "df.fillna(\"\", inplace=True)"
   ]
  },
  {
   "cell_type": "code",
   "execution_count": 22,
   "id": "e0cad74d-4da9-4d9e-b376-a3a59c81faa5",
   "metadata": {},
   "outputs": [],
   "source": [
    "# Convert runs to numeric (handling + / - signs)\n",
    "def parse_runs(run):\n",
    "    try:\n",
    "        return int(run)\n",
    "    except:\n",
    "        return 0\n",
    "df['Runs'] = df['Runs'].apply(parse_runs)"
   ]
  },
  {
   "cell_type": "code",
   "execution_count": 23,
   "id": "59c2b657-56c2-44a8-b85c-8e4a4508259c",
   "metadata": {},
   "outputs": [],
   "source": [
    "# Choose any 3 players (can be replaced by user input)\n",
    "players = ['Rilee russouw', 'Phil Salt', 'Axer Patel']"
   ]
  },
  {
   "cell_type": "code",
   "execution_count": 24,
   "id": "c56506c9-b9df-4c5d-8609-282b622bd625",
   "metadata": {},
   "outputs": [],
   "source": [
    "# Initialize weights\n",
    "weights = {\n",
    "    'CP': 1,\n",
    "    'GT': 2,\n",
    "    'C': 5,\n",
    "    'DC': -3,\n",
    "    'ST': 5,\n",
    "    'RO': 6,\n",
    "    'MRO': -2,\n",
    "    'DH': 3\n",
    "}"
   ]
  },
  {
   "cell_type": "code",
   "execution_count": 25,
   "id": "25ba6f2f-56c2-4e76-ad82-9f589cbbd305",
   "metadata": {},
   "outputs": [],
   "source": [
    "\n",
    "# Prepare result\n",
    "results = []\n",
    "\n",
    "for player in players:\n",
    "    player_data = df[df['Player Name'].str.lower() == player.lower()]\n",
    "    \n",
    "    CP = sum(player_data['Pick'].str.lower() == 'y')\n",
    "    GT = sum(player_data['Throw'].str.lower() == 'y')\n",
    "    C = sum(player_data['Pick'].str.lower() == 'catch')\n",
    "    DC = sum(player_data['Pick'].str.lower() == 'drop catch')\n",
    "    ST = sum(player_data['Throw'].str.lower() == 'stumping')\n",
    "    RO = sum(player_data['Throw'].str.lower() == 'run out')\n",
    "    MRO = sum(player_data['Throw'].str.lower() == 'missed runout')\n",
    "    DH = sum(player_data['Pick'].str.lower() == 'dirct hit')"
   ]
  },
  {
   "cell_type": "code",
   "execution_count": 26,
   "id": "3636dafd-0ab8-47af-ae98-ede304c4e8bf",
   "metadata": {},
   "outputs": [],
   "source": [
    "# Typo from dataset\n",
    "    \n",
    "RS = player_data['Runs'].sum()\n",
    "\n",
    "PS = (CP * weights['CP'] + GT * weights['GT'] + C * weights['C'] +\n",
    "DC * weights['DC'] + ST * weights['ST'] + RO * weights['RO'] +\n",
    "MRO * weights['MRO'] + DH * weights['DH'] + RS)"
   ]
  },
  {
   "cell_type": "code",
   "execution_count": 27,
   "id": "ab77d281-f3c9-4f3b-880f-fcb1863c5ad4",
   "metadata": {},
   "outputs": [],
   "source": [
    "results.append({\n",
    "        'Player Name': player,\n",
    "        'Clean Picks (CP)': CP,\n",
    "        'Good Throws (GT)': GT,\n",
    "        'Catches (C)': C,\n",
    "        'Dropped Catches (DC)': DC,\n",
    "        'Stumpings (ST)': ST,\n",
    "        'Run Outs (RO)': RO,\n",
    "        'Missed Run Outs (MRO)': MRO,\n",
    "        'Direct Hits (DH)': DH,\n",
    "        'Runs Saved (RS)': RS,\n",
    "        'Performance Score (PS)': PS\n",
    "    })\n"
   ]
  },
  {
   "cell_type": "code",
   "execution_count": 28,
   "id": "fdcf9b58-6ba4-4bbc-bde3-419d67bcbd1c",
   "metadata": {},
   "outputs": [
    {
     "name": "stdout",
     "output_type": "stream",
     "text": [
      "  Player Name  Clean Picks (CP)  Good Throws (GT)  Catches (C)  \\\n",
      "0  Axer Patel                 1                 1            0   \n",
      "\n",
      "   Dropped Catches (DC)  Stumpings (ST)  Run Outs (RO)  Missed Run Outs (MRO)  \\\n",
      "0                     0               0              0                      0   \n",
      "\n",
      "   Direct Hits (DH)  Runs Saved (RS)  Performance Score (PS)  \n",
      "0                 0                0                       3  \n"
     ]
    }
   ],
   "source": [
    "# Convert to DataFrame and save\n",
    "result_df = pd.DataFrame(results)\n",
    "print(result_df)"
   ]
  },
  {
   "cell_type": "code",
   "execution_count": 29,
   "id": "fbe9d110-c59e-4391-9dc1-1b1b1a2e717a",
   "metadata": {},
   "outputs": [],
   "source": [
    "# Optionally export to Excel\n",
    "result_df.to_excel(\"Fielding_Performance_Summary.xlsx\", index=False)"
   ]
  },
  {
   "cell_type": "code",
   "execution_count": 30,
   "id": "6a0dbb87-2215-4075-a0dc-06d99ed7f2ec",
   "metadata": {},
   "outputs": [
    {
     "name": "stdout",
     "output_type": "stream",
     "text": [
      "Requirement already satisfied: pandas in c:\\users\\niraj dagade\\anaconda3\\lib\\site-packages (2.2.2)\n",
      "Requirement already satisfied: openpyxl in c:\\users\\niraj dagade\\anaconda3\\lib\\site-packages (3.1.5)\n",
      "Requirement already satisfied: numpy>=1.26.0 in c:\\users\\niraj dagade\\anaconda3\\lib\\site-packages (from pandas) (1.26.4)\n",
      "Requirement already satisfied: python-dateutil>=2.8.2 in c:\\users\\niraj dagade\\anaconda3\\lib\\site-packages (from pandas) (2.9.0.post0)\n",
      "Requirement already satisfied: pytz>=2020.1 in c:\\users\\niraj dagade\\anaconda3\\lib\\site-packages (from pandas) (2024.1)\n",
      "Requirement already satisfied: tzdata>=2022.7 in c:\\users\\niraj dagade\\anaconda3\\lib\\site-packages (from pandas) (2023.3)\n",
      "Requirement already satisfied: et-xmlfile in c:\\users\\niraj dagade\\anaconda3\\lib\\site-packages (from openpyxl) (1.1.0)\n",
      "Requirement already satisfied: six>=1.5 in c:\\users\\niraj dagade\\anaconda3\\lib\\site-packages (from python-dateutil>=2.8.2->pandas) (1.16.0)\n",
      "Note: you may need to restart the kernel to use updated packages.\n"
     ]
    }
   ],
   "source": [
    "pip install pandas openpyxl"
   ]
  },
  {
   "cell_type": "code",
   "execution_count": null,
   "id": "43024b6d-7d73-4524-9181-e73fe3a1c845",
   "metadata": {},
   "outputs": [],
   "source": []
  },
  {
   "cell_type": "code",
   "execution_count": null,
   "id": "d7ed2000-12e0-48ed-9dd0-9cf4e6b6c345",
   "metadata": {},
   "outputs": [],
   "source": []
  },
  {
   "cell_type": "code",
   "execution_count": null,
   "id": "dab84984-54c6-486a-855f-2ea20fb045ef",
   "metadata": {},
   "outputs": [],
   "source": []
  },
  {
   "cell_type": "code",
   "execution_count": null,
   "id": "57278cbf-7bcc-4b15-bd9f-cdc45203dd21",
   "metadata": {},
   "outputs": [],
   "source": []
  }
 ],
 "metadata": {
  "kernelspec": {
   "display_name": "Python 3 (ipykernel)",
   "language": "python",
   "name": "python3"
  },
  "language_info": {
   "codemirror_mode": {
    "name": "ipython",
    "version": 3
   },
   "file_extension": ".py",
   "mimetype": "text/x-python",
   "name": "python",
   "nbconvert_exporter": "python",
   "pygments_lexer": "ipython3",
   "version": "3.12.3"
  }
 },
 "nbformat": 4,
 "nbformat_minor": 5
}
